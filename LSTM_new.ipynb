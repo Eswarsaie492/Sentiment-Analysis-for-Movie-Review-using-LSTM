{
 "cells": [
  {
   "cell_type": "code",
   "execution_count": 1,
   "metadata": {},
   "outputs": [],
   "source": [
    "#import packages\n",
    "\n",
    "import pandas as pd\n",
    "import numpy as np\n",
    "import matplotlib.pyplot as plt\n",
    "%matplotlib inline\n",
    "\n",
    "import nltk\n",
    "from nltk.tokenize import word_tokenize, sent_tokenize\n",
    "from nltk.stem import WordNetLemmatizer\n",
    "from nltk.corpus import stopwords\n",
    "from nltk import tokenize\n",
    "\n",
    "import re\n",
    "from wordcloud import WordCloud, STOPWORDS\n",
    "\n",
    "import warnings\n",
    "warnings.filterwarnings(\"ignore\")"
   ]
  },
  {
   "cell_type": "code",
   "execution_count": 2,
   "metadata": {},
   "outputs": [],
   "source": [
    "train = pd.read_csv(\"train.tsv\",sep='\\t')\n",
    "test = pd.read_csv(\"test.tsv\",sep='\\t')"
   ]
  },
  {
   "cell_type": "code",
   "execution_count": 3,
   "metadata": {},
   "outputs": [
    {
     "data": {
      "text/html": [
       "<div>\n",
       "<style scoped>\n",
       "    .dataframe tbody tr th:only-of-type {\n",
       "        vertical-align: middle;\n",
       "    }\n",
       "\n",
       "    .dataframe tbody tr th {\n",
       "        vertical-align: top;\n",
       "    }\n",
       "\n",
       "    .dataframe thead th {\n",
       "        text-align: right;\n",
       "    }\n",
       "</style>\n",
       "<table border=\"1\" class=\"dataframe\">\n",
       "  <thead>\n",
       "    <tr style=\"text-align: right;\">\n",
       "      <th></th>\n",
       "      <th>PhraseId</th>\n",
       "      <th>SentenceId</th>\n",
       "      <th>Phrase</th>\n",
       "      <th>Sentiment</th>\n",
       "    </tr>\n",
       "  </thead>\n",
       "  <tbody>\n",
       "    <tr>\n",
       "      <th>0</th>\n",
       "      <td>1</td>\n",
       "      <td>1</td>\n",
       "      <td>A series of escapades demonstrating the adage ...</td>\n",
       "      <td>1</td>\n",
       "    </tr>\n",
       "    <tr>\n",
       "      <th>1</th>\n",
       "      <td>2</td>\n",
       "      <td>1</td>\n",
       "      <td>A series of escapades demonstrating the adage ...</td>\n",
       "      <td>2</td>\n",
       "    </tr>\n",
       "    <tr>\n",
       "      <th>2</th>\n",
       "      <td>3</td>\n",
       "      <td>1</td>\n",
       "      <td>A series</td>\n",
       "      <td>2</td>\n",
       "    </tr>\n",
       "    <tr>\n",
       "      <th>3</th>\n",
       "      <td>4</td>\n",
       "      <td>1</td>\n",
       "      <td>A</td>\n",
       "      <td>2</td>\n",
       "    </tr>\n",
       "    <tr>\n",
       "      <th>4</th>\n",
       "      <td>5</td>\n",
       "      <td>1</td>\n",
       "      <td>series</td>\n",
       "      <td>2</td>\n",
       "    </tr>\n",
       "  </tbody>\n",
       "</table>\n",
       "</div>"
      ],
      "text/plain": [
       "   PhraseId  SentenceId                                             Phrase  \\\n",
       "0         1           1  A series of escapades demonstrating the adage ...   \n",
       "1         2           1  A series of escapades demonstrating the adage ...   \n",
       "2         3           1                                           A series   \n",
       "3         4           1                                                  A   \n",
       "4         5           1                                             series   \n",
       "\n",
       "   Sentiment  \n",
       "0          1  \n",
       "1          2  \n",
       "2          2  \n",
       "3          2  \n",
       "4          2  "
      ]
     },
     "execution_count": 3,
     "metadata": {},
     "output_type": "execute_result"
    }
   ],
   "source": [
    "train.head()"
   ]
  },
  {
   "cell_type": "code",
   "execution_count": 4,
   "metadata": {},
   "outputs": [
    {
     "data": {
      "text/html": [
       "<div>\n",
       "<style scoped>\n",
       "    .dataframe tbody tr th:only-of-type {\n",
       "        vertical-align: middle;\n",
       "    }\n",
       "\n",
       "    .dataframe tbody tr th {\n",
       "        vertical-align: top;\n",
       "    }\n",
       "\n",
       "    .dataframe thead th {\n",
       "        text-align: right;\n",
       "    }\n",
       "</style>\n",
       "<table border=\"1\" class=\"dataframe\">\n",
       "  <thead>\n",
       "    <tr style=\"text-align: right;\">\n",
       "      <th></th>\n",
       "      <th>PhraseId</th>\n",
       "      <th>SentenceId</th>\n",
       "      <th>Phrase</th>\n",
       "    </tr>\n",
       "  </thead>\n",
       "  <tbody>\n",
       "    <tr>\n",
       "      <th>0</th>\n",
       "      <td>156061</td>\n",
       "      <td>8545</td>\n",
       "      <td>An intermittently pleasing but mostly routine ...</td>\n",
       "    </tr>\n",
       "    <tr>\n",
       "      <th>1</th>\n",
       "      <td>156062</td>\n",
       "      <td>8545</td>\n",
       "      <td>An intermittently pleasing but mostly routine ...</td>\n",
       "    </tr>\n",
       "    <tr>\n",
       "      <th>2</th>\n",
       "      <td>156063</td>\n",
       "      <td>8545</td>\n",
       "      <td>An</td>\n",
       "    </tr>\n",
       "    <tr>\n",
       "      <th>3</th>\n",
       "      <td>156064</td>\n",
       "      <td>8545</td>\n",
       "      <td>intermittently pleasing but mostly routine effort</td>\n",
       "    </tr>\n",
       "    <tr>\n",
       "      <th>4</th>\n",
       "      <td>156065</td>\n",
       "      <td>8545</td>\n",
       "      <td>intermittently pleasing but mostly routine</td>\n",
       "    </tr>\n",
       "  </tbody>\n",
       "</table>\n",
       "</div>"
      ],
      "text/plain": [
       "   PhraseId  SentenceId                                             Phrase\n",
       "0    156061        8545  An intermittently pleasing but mostly routine ...\n",
       "1    156062        8545  An intermittently pleasing but mostly routine ...\n",
       "2    156063        8545                                                 An\n",
       "3    156064        8545  intermittently pleasing but mostly routine effort\n",
       "4    156065        8545         intermittently pleasing but mostly routine"
      ]
     },
     "execution_count": 4,
     "metadata": {},
     "output_type": "execute_result"
    }
   ],
   "source": [
    "test.head()"
   ]
  },
  {
   "cell_type": "code",
   "execution_count": 5,
   "metadata": {},
   "outputs": [],
   "source": [
    "train = train.drop(['PhraseId', 'SentenceId'], axis=1)\n",
    "test = test.drop(['PhraseId', 'SentenceId'], axis=1)"
   ]
  },
  {
   "cell_type": "code",
   "execution_count": 6,
   "metadata": {},
   "outputs": [
    {
     "data": {
      "text/plain": [
       "<AxesSubplot:xlabel='Sentiment', ylabel='count'>"
      ]
     },
     "execution_count": 6,
     "metadata": {},
     "output_type": "execute_result"
    },
    {
     "data": {
      "image/png": "[encoded data removed]",
      "text/plain": [
       "<Figure size 432x288 with 1 Axes>"
      ]
     },
     "metadata": {
      "needs_background": "light"
     },
     "output_type": "display_data"
    }
   ],
   "source": [
    "import seaborn as sns\n",
    "sns.countplot(x='Sentiment',data=train)"
   ]
  },
  {
   "cell_type": "code",
   "execution_count": 7,
   "metadata": {},
   "outputs": [
    {
     "data": {
      "text/plain": [
       "0         a series of escapades demonstrating the adage ...\n",
       "1         a series of escapades demonstrating the adage ...\n",
       "2                                                  a series\n",
       "3                                                         a\n",
       "4                                                    series\n",
       "                                ...                        \n",
       "156055                                            hearst 's\n",
       "156056                            forced avuncular chortles\n",
       "156057                                   avuncular chortles\n",
       "156058                                            avuncular\n",
       "156059                                             chortles\n",
       "Name: Phrase, Length: 156060, dtype: object"
      ]
     },
     "execution_count": 7,
     "metadata": {},
     "output_type": "execute_result"
    }
   ],
   "source": [
    "#Lower\n",
    "\n",
    "train['Phrase']=train.Phrase.apply(lambda x: x.lower())\n",
    "train['Phrase']"
   ]
  },
  {
   "cell_type": "code",
   "execution_count": 8,
   "metadata": {},
   "outputs": [
    {
     "data": {
      "text/plain": [
       "0         a series of escapades demonstrating the adage ...\n",
       "1         a series of escapades demonstrating the adage ...\n",
       "2                                                  a series\n",
       "3                                                         a\n",
       "4                                                    series\n",
       "                                ...                        \n",
       "156055                                            hearst  s\n",
       "156056                            forced avuncular chortles\n",
       "156057                                   avuncular chortles\n",
       "156058                                            avuncular\n",
       "156059                                             chortles\n",
       "Name: Phrase, Length: 156060, dtype: object"
      ]
     },
     "execution_count": 8,
     "metadata": {},
     "output_type": "execute_result"
    }
   ],
   "source": [
    "#Punctuations\n",
    "\n",
    "import string\n",
    "\n",
    "def remove_punc(text):\n",
    "    for i in string.punctuation:\n",
    "        text=text.replace(i,' ')\n",
    "    \n",
    "    return text\n",
    "\n",
    "train['Phrase']=train.Phrase.apply(remove_punc)\n",
    "train['Phrase']"
   ]
  },
  {
   "cell_type": "code",
   "execution_count": 9,
   "metadata": {},
   "outputs": [
    {
     "data": {
      "text/plain": [
       "0         series escapades demonstrating adage good goos...\n",
       "1           series escapades demonstrating adage good goose\n",
       "2                                                    series\n",
       "3                                                          \n",
       "4                                                    series\n",
       "                                ...                        \n",
       "156055                                               hearst\n",
       "156056                            forced avuncular chortles\n",
       "156057                                   avuncular chortles\n",
       "156058                                            avuncular\n",
       "156059                                             chortles\n",
       "Name: Phrase, Length: 156060, dtype: object"
      ]
     },
     "execution_count": 9,
     "metadata": {},
     "output_type": "execute_result"
    }
   ],
   "source": [
    "#stopwords\n",
    "\n",
    "stopword_list=stopwords.words('english')\n",
    "stopword_list.remove('no')\n",
    "stopword_list.remove('not')\n",
    "\n",
    "train['Phrase'] = train.Phrase.apply(lambda x : \" \".join(x for x in x.split() if x not in stopword_list))\n",
    "train['Phrase']"
   ]
  },
  {
   "cell_type": "code",
   "execution_count": 10,
   "metadata": {},
   "outputs": [
    {
     "data": {
      "text/plain": [
       "0         [series, escapades, demonstrating, adage, good...\n",
       "1         [series, escapades, demonstrating, adage, good...\n",
       "2                                                  [series]\n",
       "3                                                        []\n",
       "4                                                  [series]\n",
       "                                ...                        \n",
       "156055                                             [hearst]\n",
       "156056                        [forced, avuncular, chortles]\n",
       "156057                                [avuncular, chortles]\n",
       "156058                                          [avuncular]\n",
       "156059                                           [chortles]\n",
       "Name: Phrase, Length: 156060, dtype: object"
      ]
     },
     "execution_count": 10,
     "metadata": {},
     "output_type": "execute_result"
    }
   ],
   "source": [
    "#tokenize\n",
    "\n",
    "train['Phrase']=train.Phrase.apply(word_tokenize)\n",
    "train['Phrase']"
   ]
  },
  {
   "cell_type": "code",
   "execution_count": 11,
   "metadata": {},
   "outputs": [
    {
     "data": {
      "text/plain": [
       "0         [series, escapades, demonstrating, adage, good...\n",
       "1         [series, escapades, demonstrating, adage, good...\n",
       "2                                                  [series]\n",
       "3                                                        []\n",
       "4                                                  [series]\n",
       "                                ...                        \n",
       "156055                                             [hearst]\n",
       "156056                        [forced, avuncular, chortles]\n",
       "156057                                [avuncular, chortles]\n",
       "156058                                          [avuncular]\n",
       "156059                                           [chortles]\n",
       "Name: Phrase, Length: 156060, dtype: object"
      ]
     },
     "execution_count": 11,
     "metadata": {},
     "output_type": "execute_result"
    }
   ],
   "source": [
    "#numbers\n",
    "\n",
    "def remove_numbers(words):\n",
    "    \n",
    "    new_words = []\n",
    "    for word in words:\n",
    "        new_word = re.sub(\"\\d+\", \"\", word)\n",
    "        if new_word != '':\n",
    "            new_words.append(new_word)\n",
    "    return new_words\n",
    "\n",
    "train['Phrase']=train.Phrase.apply(remove_numbers)\n",
    "train['Phrase']"
   ]
  },
  {
   "cell_type": "code",
   "execution_count": 12,
   "metadata": {},
   "outputs": [
    {
     "data": {
      "text/plain": [
       "0         [series, escapades, demonstrate, adage, good, ...\n",
       "1         [series, escapades, demonstrate, adage, good, ...\n",
       "2                                                  [series]\n",
       "3                                                        []\n",
       "4                                                  [series]\n",
       "                                ...                        \n",
       "156055                                             [hearst]\n",
       "156056                          [force, avuncular, chortle]\n",
       "156057                                 [avuncular, chortle]\n",
       "156058                                          [avuncular]\n",
       "156059                                            [chortle]\n",
       "Name: Phrase, Length: 156060, dtype: object"
      ]
     },
     "execution_count": 12,
     "metadata": {},
     "output_type": "execute_result"
    }
   ],
   "source": [
    "#Lemmatize verbs\n",
    "\n",
    "def lemmatize_verbs(words):\n",
    "   \n",
    "    lemmatizer = WordNetLemmatizer()\n",
    "    lemmas = []\n",
    "    for word in words:\n",
    "        lemma = lemmatizer.lemmatize(word, pos='v')\n",
    "        lemmas.append(lemma)\n",
    "    return lemmas\n",
    "\n",
    "train['Phrase']=train.Phrase.apply(lemmatize_verbs)\n",
    "train['Phrase']"
   ]
  },
  {
   "cell_type": "code",
   "execution_count": 13,
   "metadata": {},
   "outputs": [
    {
     "data": {
      "image/png": "[encoded data removed]",
      "text/plain": [
       "<Figure size 576x576 with 1 Axes>"
      ]
     },
     "metadata": {
      "needs_background": "light"
     },
     "output_type": "display_data"
    }
   ],
   "source": [
    "#wordcloud\n",
    "\n",
    "text = train.Phrase.values\n",
    "\n",
    "wordcloud = WordCloud(background_color = 'black', stopwords = STOPWORDS).generate(str(text))\n",
    "fig = plt.figure(figsize = (8,8))\n",
    "plt.imshow(wordcloud, interpolation = 'bilinear')\n",
    "plt.axis(\"off\")\n",
    "plt.show()"
   ]
  },
  {
   "cell_type": "code",
   "execution_count": 14,
   "metadata": {},
   "outputs": [
    {
     "data": {
      "text/plain": [
       "0    [4345, 7239, 3474, 5783, 6037, 1382, 11147, 60...\n",
       "1                 [4345, 7239, 3474, 5783, 6037, 1382]\n",
       "2                                               [4345]\n",
       "3                                                   []\n",
       "4                                               [4345]\n",
       "Name: Tokens, dtype: object"
      ]
     },
     "execution_count": 14,
     "metadata": {},
     "output_type": "execute_result"
    }
   ],
   "source": [
    "word_set = set()\n",
    "for l in train['Phrase']:\n",
    "    for e in l:\n",
    "        word_set.add(e)\n",
    "        \n",
    "word_to_int = {word: i for i, word in enumerate(word_set, 1)}\n",
    "\n",
    "\n",
    "train['Tokens'] = train['Phrase'].apply(lambda l: [word_to_int[word] for word in l])\n",
    "train['Tokens'].head()"
   ]
  },
  {
   "cell_type": "code",
   "execution_count": 15,
   "metadata": {},
   "outputs": [],
   "source": [
    "from tensorflow.keras.models import Sequential\n",
    "from tensorflow.keras.layers import Dense, Embedding, LSTM\n",
    "\n",
    "from tensorflow.keras.utils import to_categorical\n",
    "\n",
    "from tensorflow.keras.preprocessing import sequence\n",
    "from tensorflow.keras.preprocessing.text import Tokenizer\n",
    "from tensorflow.keras.preprocessing.sequence import pad_sequences"
   ]
  },
  {
   "cell_type": "code",
   "execution_count": 16,
   "metadata": {},
   "outputs": [
    {
     "data": {
      "text/plain": [
       "30"
      ]
     },
     "execution_count": 16,
     "metadata": {},
     "output_type": "execute_result"
    }
   ],
   "source": [
    "max_len = train['Tokens'].str.len().max()\n",
    "max_len"
   ]
  },
  {
   "cell_type": "code",
   "execution_count": 17,
   "metadata": {},
   "outputs": [],
   "source": [
    "#Split\n",
    "\n",
    "X_train = train.Phrase\n",
    "y_train = train.Sentiment\n",
    "\n",
    "X_test = test.Phrase"
   ]
  },
  {
   "cell_type": "code",
   "execution_count": 18,
   "metadata": {},
   "outputs": [],
   "source": [
    "tokenize = Tokenizer()\n",
    "tokenize.fit_on_texts(X_train.values)"
   ]
  },
  {
   "cell_type": "code",
   "execution_count": 19,
   "metadata": {},
   "outputs": [],
   "source": [
    "X_train = tokenize.texts_to_sequences(X_train)\n",
    "X_train = pad_sequences(X_train, max_len)"
   ]
  },
  {
   "cell_type": "code",
   "execution_count": 20,
   "metadata": {},
   "outputs": [],
   "source": [
    "X_test = tokenize.texts_to_sequences(X_test)\n",
    "X_test = pad_sequences(X_test, max_len)"
   ]
  },
  {
   "cell_type": "code",
   "execution_count": 21,
   "metadata": {},
   "outputs": [
    {
     "name": "stdout",
     "output_type": "stream",
     "text": [
      "(156060, 30)\n",
      "(66292, 30)\n"
     ]
    }
   ],
   "source": [
    "print(X_train.shape)\n",
    "print(X_test.shape)"
   ]
  },
  {
   "cell_type": "code",
   "execution_count": 22,
   "metadata": {},
   "outputs": [
    {
     "name": "stdout",
     "output_type": "stream",
     "text": [
      "Model: \"sequential\"\n",
      "_________________________________________________________________\n",
      "Layer (type)                 Output Shape              Param #   \n",
      "=================================================================\n",
      "embedding (Embedding)        (None, 30, 128)           1587584   \n",
      "_________________________________________________________________\n",
      "lstm (LSTM)                  (None, 196)               254800    \n",
      "_________________________________________________________________\n",
      "dense (Dense)                (None, 5)                 985       \n",
      "=================================================================\n",
      "Total params: 1,843,369\n",
      "Trainable params: 1,843,369\n",
      "Non-trainable params: 0\n",
      "_________________________________________________________________\n",
      "None\n"
     ]
    }
   ],
   "source": [
    "#Model\n",
    "\n",
    "EMBEDDING_DIM = 128\n",
    "lstm_out = 196\n",
    "a = len(tokenize.word_index)+1\n",
    "\n",
    "model = Sequential()\n",
    "model.add(Embedding(a, EMBEDDING_DIM, input_length=max_len))\n",
    "model.add(LSTM(lstm_out, dropout=0.2, recurrent_dropout=0.2 ))\n",
    "model.add(Dense(5, activation='softmax'))\n",
    "model.compile(loss='sparse_categorical_crossentropy', optimizer='adam', metrics=['accuracy'])\n",
    "print(model.summary())"
   ]
  },
  {
   "cell_type": "code",
   "execution_count": 23,
   "metadata": {},
   "outputs": [
    {
     "name": "stdout",
     "output_type": "stream",
     "text": [
      "(156060,)\n",
      "(156060, 30)\n"
     ]
    }
   ],
   "source": [
    "print(y_train.shape)\n",
    "print(X_train.shape)"
   ]
  },
  {
   "cell_type": "code",
   "execution_count": 24,
   "metadata": {},
   "outputs": [
    {
     "name": "stdout",
     "output_type": "stream",
     "text": [
      "Epoch 1/24\n",
      "1220/1220 [==============================] - 163s 132ms/step - loss: 1.0758 - accuracy: 0.5701\n",
      "Epoch 2/24\n",
      "1220/1220 [==============================] - 162s 132ms/step - loss: 0.7894 - accuracy: 0.6760\n",
      "Epoch 3/24\n",
      "1220/1220 [==============================] - 161s 132ms/step - loss: 0.7178 - accuracy: 0.7015\n",
      "Epoch 4/24\n",
      "1220/1220 [==============================] - 165s 136ms/step - loss: 0.6683 - accuracy: 0.7190\n",
      "Epoch 5/24\n",
      "1220/1220 [==============================] - 165s 136ms/step - loss: 0.6319 - accuracy: 0.7320\n",
      "Epoch 6/24\n",
      "1220/1220 [==============================] - 165s 135ms/step - loss: 0.6081 - accuracy: 0.7396\n",
      "Epoch 7/24\n",
      "1220/1220 [==============================] - 166s 136ms/step - loss: 0.5840 - accuracy: 0.7468\n",
      "Epoch 8/24\n",
      "1220/1220 [==============================] - 166s 136ms/step - loss: 0.5668 - accuracy: 0.7534\n",
      "Epoch 9/24\n",
      "1220/1220 [==============================] - 166s 136ms/step - loss: 0.5449 - accuracy: 0.7624\n",
      "Epoch 10/24\n",
      "1220/1220 [==============================] - 167s 137ms/step - loss: 0.5331 - accuracy: 0.7656\n",
      "Epoch 11/24\n",
      "1220/1220 [==============================] - 166s 136ms/step - loss: 0.5162 - accuracy: 0.7712\n",
      "Epoch 12/24\n",
      "1220/1220 [==============================] - 166s 136ms/step - loss: 0.5045 - accuracy: 0.7744\n",
      "Epoch 13/24\n",
      "1220/1220 [==============================] - 166s 136ms/step - loss: 0.4886 - accuracy: 0.7816\n",
      "Epoch 14/24\n",
      "1220/1220 [==============================] - 166s 136ms/step - loss: 0.4826 - accuracy: 0.7807\n",
      "Epoch 15/24\n",
      "1220/1220 [==============================] - 167s 137ms/step - loss: 0.4700 - accuracy: 0.7864\n",
      "Epoch 16/24\n",
      "1220/1220 [==============================] - 166s 136ms/step - loss: 0.4583 - accuracy: 0.7896\n",
      "Epoch 17/24\n",
      "1220/1220 [==============================] - 166s 136ms/step - loss: 0.4495 - accuracy: 0.7939\n",
      "Epoch 18/24\n",
      "1220/1220 [==============================] - 166s 136ms/step - loss: 0.4446 - accuracy: 0.7948\n",
      "Epoch 19/24\n",
      "1220/1220 [==============================] - 166s 136ms/step - loss: 0.4362 - accuracy: 0.7981\n",
      "Epoch 20/24\n",
      "1220/1220 [==============================] - 166s 136ms/step - loss: 0.4285 - accuracy: 0.7999\n",
      "Epoch 21/24\n",
      "1220/1220 [==============================] - 167s 137ms/step - loss: 0.4210 - accuracy: 0.8031\n",
      "Epoch 22/24\n",
      "1220/1220 [==============================] - 166s 136ms/step - loss: 0.4195 - accuracy: 0.8028\n",
      "Epoch 23/24\n",
      "1220/1220 [==============================] - 170s 140ms/step - loss: 0.4111 - accuracy: 0.8056\n",
      "Epoch 24/24\n",
      "1220/1220 [==============================] - 194s 159ms/step - loss: 0.4057 - accuracy: 0.8093\n"
     ]
    },
    {
     "data": {
      "text/plain": [
       "<tensorflow.python.keras.callbacks.History at 0x296e2512250>"
      ]
     },
     "execution_count": 24,
     "metadata": {},
     "output_type": "execute_result"
    }
   ],
   "source": [
    "#Fitting the model\n",
    "\n",
    "model.fit(X_train, y_train, batch_size=128, epochs=24, verbose=1)"
   ]
  },
  {
   "cell_type": "code",
   "execution_count": 25,
   "metadata": {},
   "outputs": [],
   "source": [
    "#Predictions\n",
    "\n",
    "predictions = model.predict_classes(X_test)"
   ]
  },
  {
   "cell_type": "code",
   "execution_count": 26,
   "metadata": {},
   "outputs": [
    {
     "data": {
      "text/plain": [
       "array([1, 1, 2, ..., 2, 2, 2], dtype=int64)"
      ]
     },
     "execution_count": 26,
     "metadata": {},
     "output_type": "execute_result"
    }
   ],
   "source": [
    "predictions"
   ]
  },
  {
   "cell_type": "code",
   "execution_count": 27,
   "metadata": {},
   "outputs": [
    {
     "data": {
      "text/html": [
       "<div>\n",
       "<style scoped>\n",
       "    .dataframe tbody tr th:only-of-type {\n",
       "        vertical-align: middle;\n",
       "    }\n",
       "\n",
       "    .dataframe tbody tr th {\n",
       "        vertical-align: top;\n",
       "    }\n",
       "\n",
       "    .dataframe thead th {\n",
       "        text-align: right;\n",
       "    }\n",
       "</style>\n",
       "<table border=\"1\" class=\"dataframe\">\n",
       "  <thead>\n",
       "    <tr style=\"text-align: right;\">\n",
       "      <th></th>\n",
       "      <th>Phrase</th>\n",
       "      <th>Predicted_Sentiment</th>\n",
       "    </tr>\n",
       "  </thead>\n",
       "  <tbody>\n",
       "    <tr>\n",
       "      <th>0</th>\n",
       "      <td>An intermittently pleasing but mostly routine ...</td>\n",
       "      <td>1</td>\n",
       "    </tr>\n",
       "    <tr>\n",
       "      <th>1</th>\n",
       "      <td>An intermittently pleasing but mostly routine ...</td>\n",
       "      <td>1</td>\n",
       "    </tr>\n",
       "    <tr>\n",
       "      <th>2</th>\n",
       "      <td>An</td>\n",
       "      <td>2</td>\n",
       "    </tr>\n",
       "    <tr>\n",
       "      <th>3</th>\n",
       "      <td>intermittently pleasing but mostly routine effort</td>\n",
       "      <td>1</td>\n",
       "    </tr>\n",
       "    <tr>\n",
       "      <th>4</th>\n",
       "      <td>intermittently pleasing but mostly routine</td>\n",
       "      <td>1</td>\n",
       "    </tr>\n",
       "    <tr>\n",
       "      <th>...</th>\n",
       "      <td>...</td>\n",
       "      <td>...</td>\n",
       "    </tr>\n",
       "    <tr>\n",
       "      <th>66287</th>\n",
       "      <td>A long-winded , predictable scenario .</td>\n",
       "      <td>2</td>\n",
       "    </tr>\n",
       "    <tr>\n",
       "      <th>66288</th>\n",
       "      <td>A long-winded , predictable scenario</td>\n",
       "      <td>2</td>\n",
       "    </tr>\n",
       "    <tr>\n",
       "      <th>66289</th>\n",
       "      <td>A long-winded ,</td>\n",
       "      <td>2</td>\n",
       "    </tr>\n",
       "    <tr>\n",
       "      <th>66290</th>\n",
       "      <td>A long-winded</td>\n",
       "      <td>2</td>\n",
       "    </tr>\n",
       "    <tr>\n",
       "      <th>66291</th>\n",
       "      <td>predictable scenario</td>\n",
       "      <td>2</td>\n",
       "    </tr>\n",
       "  </tbody>\n",
       "</table>\n",
       "<p>66292 rows × 2 columns</p>\n",
       "</div>"
      ],
      "text/plain": [
       "                                                  Phrase  Predicted_Sentiment\n",
       "0      An intermittently pleasing but mostly routine ...                    1\n",
       "1      An intermittently pleasing but mostly routine ...                    1\n",
       "2                                                     An                    2\n",
       "3      intermittently pleasing but mostly routine effort                    1\n",
       "4             intermittently pleasing but mostly routine                    1\n",
       "...                                                  ...                  ...\n",
       "66287             A long-winded , predictable scenario .                    2\n",
       "66288               A long-winded , predictable scenario                    2\n",
       "66289                                    A long-winded ,                    2\n",
       "66290                                      A long-winded                    2\n",
       "66291                               predictable scenario                    2\n",
       "\n",
       "[66292 rows x 2 columns]"
      ]
     },
     "execution_count": 27,
     "metadata": {},
     "output_type": "execute_result"
    }
   ],
   "source": [
    "pred_out = pd.DataFrame({'Phrase': test.Phrase,'Predicted_Sentiment':predictions})\n",
    "pred_out"
   ]
  },
  {
   "cell_type": "code",
   "execution_count": null,
   "metadata": {},
   "outputs": [],
   "source": []
  }
 ],
 "metadata": {
  "kernelspec": {
   "display_name": "Python 3",
   "language": "python",
   "name": "python3"
  },
  "language_info": {
   "codemirror_mode": {
    "name": "ipython",
    "version": 3
   },
   "file_extension": ".py",
   "mimetype": "text/x-python",
   "name": "python",
   "nbconvert_exporter": "python",
   "pygments_lexer": "ipython3",
   "version": "3.8.5"
  }
 },
 "nbformat": 4,
 "nbformat_minor": 4
}
